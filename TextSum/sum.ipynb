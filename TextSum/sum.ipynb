{
 "cells": [
  {
   "cell_type": "code",
   "execution_count": 41,
   "metadata": {},
   "outputs": [],
   "source": [
    "from transformers import PegasusForConditionalGeneration\n",
    "from transformers import PegasusTokenizer"
   ]
  },
  {
   "cell_type": "code",
   "execution_count": 42,
   "metadata": {},
   "outputs": [],
   "source": [
    "tokenizer = PegasusTokenizer.from_pretrained('google/pegasus-xsum')"
   ]
  },
  {
   "cell_type": "code",
   "execution_count": 43,
   "metadata": {},
   "outputs": [
    {
     "name": "stderr",
     "output_type": "stream",
     "text": [
      "Some weights of PegasusForConditionalGeneration were not initialized from the model checkpoint at google/pegasus-xsum and are newly initialized: ['model.decoder.embed_positions.weight', 'model.encoder.embed_positions.weight']\n",
      "You should probably TRAIN this model on a down-stream task to be able to use it for predictions and inference.\n"
     ]
    }
   ],
   "source": [
    "model = PegasusForConditionalGeneration.from_pretrained('google/pegasus-xsum')"
   ]
  },
  {
   "cell_type": "code",
   "execution_count": 44,
   "metadata": {},
   "outputs": [],
   "source": [
    "text = input('enter your text: ')"
   ]
  },
  {
   "cell_type": "code",
   "execution_count": 45,
   "metadata": {},
   "outputs": [],
   "source": [
    "tokens = tokenizer(text, truncation=True, padding=\"longest\", return_tensors=\"pt\")"
   ]
  },
  {
   "cell_type": "code",
   "execution_count": 46,
   "metadata": {},
   "outputs": [
    {
     "data": {
      "text/plain": [
       "{'input_ids': tensor([[  139,  1318,   113,  7311,   111, 11832,   143,   470, 35569,   158,\n",
       "           115,  2178, 94878,   117,   395, 15179,   118,   109,   866,   979,\n",
       "           113,  4958,  3941,   143, 13901,   158,   124,   109,  3554,  1937,\n",
       "           115,   109,  1322,   107,  5344,  6335,   112,   958,   962,   120,\n",
       "           137,  1798,  2722,   134,   114,  2347,   872,   197,   883,  1841,\n",
       "           108,   162,   256,  3744,   756,   112,   878,   766,  1935, 19200,\n",
       "           111, 18230,   107,   714, 35569,  5579,  1970, 48582,   304, 21160,\n",
       "         16656,   216, 16395,   109,   217,   118,   688,   112,   129,  1831,\n",
       "           118,   109,  1225,   852,   120,  5344,   138,   650,   112, 26570,\n",
       "           111,  1665,   107,   452,  3825,   109,  3757,   113,  5344,   798,\n",
       "           190,  1010,  3090,   962,   118,   281,   399,   111,  1416,   392,\n",
       "           108,  5726,   183,   112,   193,  2976,  1993,  1409, 18506,   120,\n",
       "           218,   129,  5387,   112,  5868,   111,  5344,   107, 32698, 21682,\n",
       "           110, 43423, 43803,   108,  1319,   714, 35569,  3554,  7723,  5371,\n",
       "           108,  7695,   109,  2227,   113,  7023, 11109,  3733,   118,   109,\n",
       "           486,   111,  7598,   113,  5344,   107,   285, 16395,   109,   217,\n",
       "           118,   114,  2291,  3596,   112,   142,  5344,   121,  6889,   494,\n",
       "           407,   141,  1192, 95290,   108, 62949,   108,   111,  5195,  1010,\n",
       "          3090,  7843,   118, 10775,  1841,   111,   392,   107,   714, 35569,\n",
       "           121, 55061,   624,  1017,   112,  8713,   122,  2232,  3071,   108,\n",
       "           109,  6726,  1988,   111, 11090,  2225,  5369,   108,   111,   176,\n",
       "          1627,   121,  3528, 40546,   112,   337,   109,  3554,  1937,   115,\n",
       "           109,  4065,   113,  5344,   107,   322,  2560,   112,   319,  1040,\n",
       "           111,  2057,   112,   225,  1273,  6197,   112,   109,  1872,  2646,\n",
       "           107,  2113,  5344,   218,   133,  1225,  6323,   124,   878,   494,\n",
       "          3668,   108, 21160, 16656,   216,  7020,   109,   564,   113,  1607,\n",
       "           766,   120,   967,   129,  5640,   108,   253,   130,   575,   121,\n",
       "         20555,   108, 13596,   108,   111,  4039,   107,   452, 16395,   120,\n",
       "           173,   201,   117,   479,   122,  2421,   111,   773,   108,   126,\n",
       "          2052,  1011,   118,  5344,   112, 14247,   107, 21177,   219,  1607,\n",
       "           766,   138,   129,  3236,   118,  1273,   112,  7783,   115,   109,\n",
       "           779,   113,  5344,   107,  8395,   108,   714, 35569,   121, 55061,\n",
       "           624, 11725,   109,   217,   112,   845,   109,   866,  1521,   113,\n",
       "          5344,   111,   117, 23171,  3946,   109,  3554,  1937,   118,   109,\n",
       "           852,   120,  5372,  1573,   107,     1]]), 'attention_mask': tensor([[1, 1, 1, 1, 1, 1, 1, 1, 1, 1, 1, 1, 1, 1, 1, 1, 1, 1, 1, 1, 1, 1, 1, 1,\n",
       "         1, 1, 1, 1, 1, 1, 1, 1, 1, 1, 1, 1, 1, 1, 1, 1, 1, 1, 1, 1, 1, 1, 1, 1,\n",
       "         1, 1, 1, 1, 1, 1, 1, 1, 1, 1, 1, 1, 1, 1, 1, 1, 1, 1, 1, 1, 1, 1, 1, 1,\n",
       "         1, 1, 1, 1, 1, 1, 1, 1, 1, 1, 1, 1, 1, 1, 1, 1, 1, 1, 1, 1, 1, 1, 1, 1,\n",
       "         1, 1, 1, 1, 1, 1, 1, 1, 1, 1, 1, 1, 1, 1, 1, 1, 1, 1, 1, 1, 1, 1, 1, 1,\n",
       "         1, 1, 1, 1, 1, 1, 1, 1, 1, 1, 1, 1, 1, 1, 1, 1, 1, 1, 1, 1, 1, 1, 1, 1,\n",
       "         1, 1, 1, 1, 1, 1, 1, 1, 1, 1, 1, 1, 1, 1, 1, 1, 1, 1, 1, 1, 1, 1, 1, 1,\n",
       "         1, 1, 1, 1, 1, 1, 1, 1, 1, 1, 1, 1, 1, 1, 1, 1, 1, 1, 1, 1, 1, 1, 1, 1,\n",
       "         1, 1, 1, 1, 1, 1, 1, 1, 1, 1, 1, 1, 1, 1, 1, 1, 1, 1, 1, 1, 1, 1, 1, 1,\n",
       "         1, 1, 1, 1, 1, 1, 1, 1, 1, 1, 1, 1, 1, 1, 1, 1, 1, 1, 1, 1, 1, 1, 1, 1,\n",
       "         1, 1, 1, 1, 1, 1, 1, 1, 1, 1, 1, 1, 1, 1, 1, 1, 1, 1, 1, 1, 1, 1, 1, 1,\n",
       "         1, 1, 1, 1, 1, 1, 1, 1, 1, 1, 1, 1, 1, 1, 1, 1, 1, 1, 1, 1, 1, 1, 1, 1,\n",
       "         1, 1, 1, 1, 1, 1, 1, 1, 1, 1, 1, 1, 1, 1, 1, 1, 1, 1, 1, 1, 1, 1, 1, 1,\n",
       "         1, 1, 1, 1, 1, 1, 1, 1, 1, 1, 1, 1, 1, 1, 1, 1, 1, 1, 1, 1, 1, 1, 1, 1,\n",
       "         1, 1, 1, 1, 1, 1, 1, 1, 1, 1]])}"
      ]
     },
     "execution_count": 46,
     "metadata": {},
     "output_type": "execute_result"
    }
   ],
   "source": [
    "tokens"
   ]
  },
  {
   "cell_type": "code",
   "execution_count": 47,
   "metadata": {},
   "outputs": [],
   "source": [
    "summary = model.generate(**tokens, max_length= 200, min_length= 100,)"
   ]
  },
  {
   "cell_type": "code",
   "execution_count": 48,
   "metadata": {},
   "outputs": [
    {
     "data": {
      "text/plain": [
       "tensor([[    0,   436,  3862,  7392,   113,   109,  1318,   113,  7311,   111,\n",
       "         11832,   143,   470, 35569,   158,   115,  2178, 94878,   107,   139,\n",
       "          1318,   113,  7311,   111, 11832,   143,   470, 35569,   158,   115,\n",
       "          2178, 94878,   117,   395, 15179,   118,   109,   866,   979,   113,\n",
       "          4958,  3941,   143, 13901,   158,   124,   109,  3554,  1937,   115,\n",
       "           109,  1322,   107,  2113,  5344,   218,   133,  1225,  6323,   124,\n",
       "           878,   494,  3668,   108, 21160, 16656,   216,  7020,   109,   564,\n",
       "           113,  1607,   766,   120,   967,   129,  5640,   108,   253,   130,\n",
       "           575,   121, 20555,   108, 13596,   108,   111,  4039,   107,  2113,\n",
       "          5344,   218,   133,  1225,  6323,   124,   878,   494,  3668,   108,\n",
       "         21160, 16656,   216,  7020,   109,   564,   113,  1607,   766,   120,\n",
       "           967,   129,  5640,   108,   253,   130,   575,   121, 20555,   108,\n",
       "         13596,   108,   111,  4039,   107,     1]])"
      ]
     },
     "execution_count": 48,
     "metadata": {},
     "output_type": "execute_result"
    }
   ],
   "source": [
    "summary"
   ]
  },
  {
   "cell_type": "code",
   "execution_count": 49,
   "metadata": {},
   "outputs": [
    {
     "data": {
      "text/plain": [
       "'All photographs courtesy of the Department of Labor and Employment (DOLE) in Central Visayas. The Department of Labor and Employment (DOLE) in Central Visayas is making preparations for the potential impact of artificial intelligence (AI) on the labor force in the region. Although AI may have significant impacts on certain job roles, Estillore highlighted the value of soft skills that cannot be automated, such as problem-solving, empathy, and creativity. Although AI may have significant impacts on certain job roles, Estillore highlighted the value of soft skills that cannot be automated, such as problem-solving, empathy, and creativity.'"
      ]
     },
     "execution_count": 49,
     "metadata": {},
     "output_type": "execute_result"
    }
   ],
   "source": [
    "tokenizer.decode(summary[0], skip_special_tokens=True)"
   ]
  },
  {
   "cell_type": "code",
   "execution_count": null,
   "metadata": {},
   "outputs": [],
   "source": []
  }
 ],
 "metadata": {
  "kernelspec": {
   "display_name": "Python 3",
   "language": "python",
   "name": "python3"
  },
  "language_info": {
   "codemirror_mode": {
    "name": "ipython",
    "version": 3
   },
   "file_extension": ".py",
   "mimetype": "text/x-python",
   "name": "python",
   "nbconvert_exporter": "python",
   "pygments_lexer": "ipython3",
   "version": "3.11.3"
  },
  "orig_nbformat": 4
 },
 "nbformat": 4,
 "nbformat_minor": 2
}
