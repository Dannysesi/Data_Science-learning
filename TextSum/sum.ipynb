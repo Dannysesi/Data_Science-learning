{
 "cells": [
  {
   "cell_type": "code",
   "execution_count": 15,
   "metadata": {},
   "outputs": [],
   "source": [
    "from transformers import PegasusForConditionalGeneration, PegasusTokenizer"
   ]
  },
  {
   "cell_type": "code",
   "execution_count": 16,
   "metadata": {},
   "outputs": [],
   "source": [
    "tokenizer = PegasusTokenizer.from_pretrained('google/pegasus-xsum')"
   ]
  },
  {
   "cell_type": "code",
   "execution_count": 17,
   "metadata": {},
   "outputs": [
    {
     "name": "stderr",
     "output_type": "stream",
     "text": [
      "Some weights of PegasusForConditionalGeneration were not initialized from the model checkpoint at google/pegasus-xsum and are newly initialized: ['model.decoder.embed_positions.weight', 'model.encoder.embed_positions.weight']\n",
      "You should probably TRAIN this model on a down-stream task to be able to use it for predictions and inference.\n"
     ]
    }
   ],
   "source": [
    "model = PegasusForConditionalGeneration.from_pretrained('google/pegasus-xsum')"
   ]
  },
  {
   "cell_type": "code",
   "execution_count": 30,
   "metadata": {},
   "outputs": [],
   "source": [
    "text = input('enter your text: ')"
   ]
  },
  {
   "cell_type": "code",
   "execution_count": 36,
   "metadata": {},
   "outputs": [],
   "source": [
    "tokens = tokenizer(text, truncation=True, padding=\"longest\", return_tensors=\"pt\")"
   ]
  },
  {
   "cell_type": "code",
   "execution_count": 37,
   "metadata": {},
   "outputs": [
    {
     "data": {
      "text/plain": [
       "{'input_ids': tensor([[18803,   109, 24904,  3639,   113,   840, 58290,  5364,  8457,   122,\n",
       "           109,   229,  8697, 37581,   333,   109,  2107,  8335,  2781,  3892,\n",
       "         30249,   107,   182,  3144,   117,   160, 17883,   273,   109,   585,\n",
       "          4517,   317, 11243,   111, 23429,   109,   512,  1283,   122,   183,\n",
       "           107,   654,  2107,   108,   119,   137,   258,   114,   827,   949,\n",
       "           113,  2572, 80467,  2937,   638,   112,  9486,   128, 20319,  4556,\n",
       "           111,  6495,   112,   128,  1314,  1304,   107,  2121,   119,   127,\n",
       "           383,   118,   114,  1283,   118,   128,  2936,   132,  3051,   108,\n",
       "           186,   127,  1687,   113,   671,   112,   632,   135,   107,   240,\n",
       "           119,   127,   124,   114,  1349,   108,  2262,   146,   147,  2107,\n",
       "           504,   114,   467,   113,  1349,   121,  3254, 80467,  1283,   675,\n",
       "           365,  4381,  2527,   107,   226,   137,   258,   877,  2937,   120,\n",
       "           138,   193,   128, 21419,   393,  1314,   111, 40008,   108,   347,\n",
       "          5461,   114,  3699,   115,   128,  4102,   107,  1027,   113,   109,\n",
       "           785,  1283,   671,   444,   109, 79809, 22668,   116, 80467,  6420,\n",
       "           118, 12700,   108,   600, 30881, 11073, 25895,  5069,  5884, 15830,\n",
       "          3958,  3748,  2218,   108,   860, 21535, 14080, 80467,  6420, 59534,\n",
       "           108, 29558, 38287, 25676, 59534,  3089,   108,   111,   109,  1205,\n",
       "         40238, 34320, 16571, 46205,  5781,   107,   507,  2937,   127,   146,\n",
       "           188,  9563,   108,   155,   157,   127,   163,   293,   134,   255,\n",
       "          4472,   333,   109,  2107,  1509,  8335,  2781,  3892,   107,   226,\n",
       "           137,   803,   408,   277,  1663,   109,   512,  1283,   118,   128,\n",
       "         21419,   107,   412,   108,   179,   734,   112,  2809,   840, 58290,\n",
       "          5364,  8457,   115,   669,   122,  2107,   123,   116,  1509,  8335,\n",
       "          2781,  3892, 30249,   107, 10329,   109,   877,   949,   113, 80467,\n",
       "          2937,   111,   193,   136,  3144,   114,  5419,   156,   118,   128,\n",
       "          1314,  1304,   107,     1]]), 'attention_mask': tensor([[1, 1, 1, 1, 1, 1, 1, 1, 1, 1, 1, 1, 1, 1, 1, 1, 1, 1, 1, 1, 1, 1, 1, 1,\n",
       "         1, 1, 1, 1, 1, 1, 1, 1, 1, 1, 1, 1, 1, 1, 1, 1, 1, 1, 1, 1, 1, 1, 1, 1,\n",
       "         1, 1, 1, 1, 1, 1, 1, 1, 1, 1, 1, 1, 1, 1, 1, 1, 1, 1, 1, 1, 1, 1, 1, 1,\n",
       "         1, 1, 1, 1, 1, 1, 1, 1, 1, 1, 1, 1, 1, 1, 1, 1, 1, 1, 1, 1, 1, 1, 1, 1,\n",
       "         1, 1, 1, 1, 1, 1, 1, 1, 1, 1, 1, 1, 1, 1, 1, 1, 1, 1, 1, 1, 1, 1, 1, 1,\n",
       "         1, 1, 1, 1, 1, 1, 1, 1, 1, 1, 1, 1, 1, 1, 1, 1, 1, 1, 1, 1, 1, 1, 1, 1,\n",
       "         1, 1, 1, 1, 1, 1, 1, 1, 1, 1, 1, 1, 1, 1, 1, 1, 1, 1, 1, 1, 1, 1, 1, 1,\n",
       "         1, 1, 1, 1, 1, 1, 1, 1, 1, 1, 1, 1, 1, 1, 1, 1, 1, 1, 1, 1, 1, 1, 1, 1,\n",
       "         1, 1, 1, 1, 1, 1, 1, 1, 1, 1, 1, 1, 1, 1, 1, 1, 1, 1, 1, 1, 1, 1, 1, 1,\n",
       "         1, 1, 1, 1, 1, 1, 1, 1, 1, 1, 1, 1, 1, 1, 1, 1, 1, 1, 1, 1, 1, 1, 1, 1,\n",
       "         1, 1, 1, 1, 1, 1, 1, 1, 1, 1, 1, 1, 1, 1, 1, 1, 1, 1, 1, 1, 1, 1, 1, 1]])}"
      ]
     },
     "execution_count": 37,
     "metadata": {},
     "output_type": "execute_result"
    }
   ],
   "source": [
    "tokens"
   ]
  },
  {
   "cell_type": "code",
   "execution_count": 38,
   "metadata": {},
   "outputs": [],
   "source": [
    "summary = model.generate(**tokens, max_length= 200, min_length= 100,)"
   ]
  },
  {
   "cell_type": "code",
   "execution_count": 39,
   "metadata": {},
   "outputs": [
    {
     "data": {
      "text/plain": [
       "tensor([[    0,   240,   119,   127,   383,   118,   109,   512,  1283,   118,\n",
       "           128,  2936,   132,  3051,   124,   840, 58290,  5364,  8457,   108,\n",
       "           237,   119,   133,   331,   112,   109,   268,   295,   107,   412,\n",
       "           108,   179,   734,   112,  2809,   840, 58290,  5364,  8457,   115,\n",
       "           669,   122,  2107,   123,   116,  1509,  8335,  2781,  3892, 30249,\n",
       "           107,   111,   857, 77515, 77515, 77515, 77515, 77515, 77515, 77515,\n",
       "         77515, 77515, 77515, 77515, 77515, 77515, 77515, 77515, 77515, 77515,\n",
       "         77515, 77515, 77515, 77515, 77515, 77515, 77515, 77515, 77515, 77515,\n",
       "         77515, 77515, 77515, 77515, 77515, 77515, 77515, 77515, 77515, 77515,\n",
       "         77515, 77515, 77515, 77515, 77515, 77515, 77515, 77515, 77515, 77515,\n",
       "         77515, 77515, 77515, 77515, 77515, 77515, 77515, 77515, 77515, 77515,\n",
       "         77515, 77515, 77515, 77515, 77515, 77515, 77515, 77515, 77515, 77515,\n",
       "         77515, 77515, 77515, 77515, 77515, 77515, 77515, 77515, 77515, 77515,\n",
       "         77515, 77515, 77515, 77515, 77515, 77515, 77515, 77515, 77515, 77515,\n",
       "         77515, 77515, 77515, 77515, 77515, 77515, 77515, 77515, 77515, 77515,\n",
       "         77515, 77515, 77515, 77515, 77515, 77515, 77515, 77515, 77515, 77515,\n",
       "         77515, 77515, 77515, 77515, 77515, 77515, 77515, 77515, 77515, 77515,\n",
       "         77515, 77515, 77515, 77515, 77515, 77515, 77515, 77515, 77515, 77515,\n",
       "         77515, 77515, 77515, 77515, 77515, 77515, 77515, 77515, 77515, 77515,\n",
       "         77515, 77515, 77515, 77515, 77515, 77515, 77515, 77515, 77515,     1]])"
      ]
     },
     "execution_count": 39,
     "metadata": {},
     "output_type": "execute_result"
    }
   ],
   "source": [
    "summary"
   ]
  },
  {
   "cell_type": "code",
   "execution_count": 40,
   "metadata": {},
   "outputs": [
    {
     "data": {
      "text/plain": [
       "'If you are looking for the perfect gift for your brother or sister on Raksha Bandhan, then you have come to the right place. So, get ready to celebrate Raksha Bandhan in style with Amazon’s Great Freedom Festival Sale 2023. and follow INRDeals INRDeals INRDeals INRDeals INRDeals INRDeals INRDeals INRDeals INRDeals INRDeals INRDeals INRDeals INRDeals INRDeals INRDeals INRDeals INRDeals INRDeals INRDeals INRDeals INRDeals INRDeals INRDeals INRDeals INRDeals INRDeals INRDeals INRDeals INRDeals INRDeals INRDeals INRDeals INRDeals INRDeals INRDeals INRDeals INRDeals INRDeals INRDeals INRDeals INRDeals INRDeals INRDeals INRDeals INRDeals INRDeals INRDeals INRDeals INRDeals INRDeals INRDeals INRDeals INRDeals INRDeals INRDeals INRDeals INRDeals INRDeals INRDeals INRDeals INRDeals INRDeals INRDeals INRDeals INRDeals INRDeals INRDeals INRDeals INRDeals INRDeals INRDeals INRDeals INRDeals INRDeals INRDeals INRDeals INRDeals INRDeals INRDeals INRDeals INRDeals INRDeals INRDeals INRDeals INRDeals INRDeals INRDeals INRDeals INRDeals INRDeals INRDeals INRDeals INRDeals INRDeals INRDeals INRDeals INRDeals INRDeals INRDeals INRDeals INRDeals INRDeals INRDeals INRDeals INRDeals INRDeals INRDeals INRDeals INRDeals INRDeals INRDeals INRDeals INRDeals INRDeals INRDeals INRDeals INRDeals INRDeals INRDeals INRDeals INRDeals INRDeals INRDeals INRDeals INRDeals INRDeals INRDeals INRDeals INRDeals INRDeals INRDeals INRDeals INRDeals INRDeals INRDeals INRDeals INRDeals INRDeals INRDeals INRDeals INRDeals INRDeals INRDeals INRDeals INRDeals INRDeals'"
      ]
     },
     "execution_count": 40,
     "metadata": {},
     "output_type": "execute_result"
    }
   ],
   "source": [
    "tokenizer.decode(summary[0], skip_special_tokens=True)"
   ]
  },
  {
   "cell_type": "code",
   "execution_count": null,
   "metadata": {},
   "outputs": [],
   "source": []
  }
 ],
 "metadata": {
  "kernelspec": {
   "display_name": "Python 3",
   "language": "python",
   "name": "python3"
  },
  "language_info": {
   "codemirror_mode": {
    "name": "ipython",
    "version": 3
   },
   "file_extension": ".py",
   "mimetype": "text/x-python",
   "name": "python",
   "nbconvert_exporter": "python",
   "pygments_lexer": "ipython3",
   "version": "3.11.3"
  },
  "orig_nbformat": 4
 },
 "nbformat": 4,
 "nbformat_minor": 2
}
