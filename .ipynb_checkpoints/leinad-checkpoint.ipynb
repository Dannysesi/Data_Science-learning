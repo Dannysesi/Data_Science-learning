{
 "cells": [
  {
   "cell_type": "code",
   "execution_count": 6,
   "id": "c59a449c",
   "metadata": {},
   "outputs": [],
   "source": [
    "import streamlit as st\n",
    "import pandas as pd\n",
    "import numpy as np"
   ]
  },
  {
   "cell_type": "code",
   "execution_count": 11,
   "id": "bd4c76f2",
   "metadata": {},
   "outputs": [
    {
     "data": {
      "text/plain": [
       "DeltaGenerator(_root_container=0, _provided_cursor=None, _parent=None, _block_type=None, _form_data=None)"
      ]
     },
     "execution_count": 11,
     "metadata": {},
     "output_type": "execute_result"
    }
   ],
   "source": [
    "st.title(\"Leinad_sama\")"
   ]
  },
  {
   "cell_type": "code",
   "execution_count": 8,
   "id": "1b618a95",
   "metadata": {},
   "outputs": [],
   "source": [
    "DATA_COLUMN = 'date/time'\n",
    "DATA_URL = ('https://s3-us-west-2.amazonaws.com/'\n",
    "           'streamlit-demo-data/uber-raw-data-sep14.csv.gz')"
   ]
  },
  {
   "cell_type": "code",
   "execution_count": 9,
   "id": "b8e05fc7",
   "metadata": {},
   "outputs": [],
   "source": [
    "def load_data(nrows):\n",
    "    data = pd. read_csv(DATA_URL, nrows=nrows)\n",
    "    lowercase = lambda x: str(x).lower()\n",
    "    data.rename(lowercase, axis='columns', inplace=True)\n",
    "    data[DATA_COLUMN] = pd.to_datetime(data[DATA_COLUMN])\n",
    "    return data"
   ]
  },
  {
   "cell_type": "code",
   "execution_count": 10,
   "id": "71065126",
   "metadata": {},
   "outputs": [
    {
     "data": {
      "text/plain": [
       "DeltaGenerator(_root_container=0, _provided_cursor=None, _parent=None, _block_type=None, _form_data=None)"
      ]
     },
     "execution_count": 10,
     "metadata": {},
     "output_type": "execute_result"
    }
   ],
   "source": [
    "data_load_state = st.text('Loading data...')\n",
    "data = load_data(10000)\n",
    "data_load_state.text(\"loading data...done!\")\n"
   ]
  },
  {
   "cell_type": "code",
   "execution_count": null,
   "id": "72ccd77e",
   "metadata": {},
   "outputs": [],
   "source": [
    "import pandas as pd\n",
    "from sklearn.linear_model import LinearRegression\n",
    "from sklearn.metrics import mean_squared_error\n",
    "from sklearn.model_selection import train_test_split\n",
    "\n",
    "# Load the Boston house price dataset\n",
    "boston = pd.read_csv(\"Data.csv\")\n",
    "\n",
    "# Split the data into training and test sets\n",
    "X_train, X_test, y_train, y_test = train_test_split(boston.data, boston.target, test_size=0.2, random_state=0)\n",
    "\n",
    "# Create a linear regression model\n",
    "model = LinearRegression()\n",
    "\n",
    "# Train the model on the training data\n",
    "model.fit(X_train, y_train)\n",
    "\n",
    "# Predict on the test data\n",
    "y_pred = model.predict(X_test)\n",
    "\n",
    "# Calculate the mean squared error of the model\n",
    "mse = mean_squared_error(y_test, y_pred)\n",
    "print(\"Mean Squared Error:\", mse)\n"
   ]
  },
  {
   "cell_type": "code",
   "execution_count": null,
   "id": "5a416fe9",
   "metadata": {},
   "outputs": [],
   "source": [
    "import streamlit as st\n",
    "from sklearn.datasets import load_boston\n",
    "from sklearn.linear_model import LinearRegression\n",
    "from sklearn.metrics import mean_squared_error\n",
    "\n",
    "# Load the Boston house price dataset\n",
    "boston = load_boston()\n",
    "\n",
    "# Create a linear regression model\n",
    "model = LinearRegression()\n",
    "\n",
    "# Train the model on the data\n",
    "model.fit(boston.data, boston.target)\n",
    "\n",
    "def predict():\n",
    "    # Get user input for the number of rooms in the house\n",
    "    rooms = st.number_input(\"Enter the number of rooms:\")\n",
    "\n",
    "    # Make a prediction using the model\n",
    "    y_pred = model.predict([[rooms] + [0]*13])[0]\n",
    "\n",
    "    # Display the predicted price\n",
    "    st.write(\"The predicted price for a house with\", rooms, \"rooms is: $\", y_pred)\n",
    "\n",
    "# Create a Streamlit app\n",
    "st.title(\"Boston House Price Prediction\")\n",
    "st.button(\"Predict\")\n",
    "if st.button(\"Predict\"):\n",
    "    predict()\n"
   ]
  },
  {
   "cell_type": "code",
   "execution_count": 1,
   "id": "831820ac",
   "metadata": {},
   "outputs": [
    {
     "name": "stdout",
     "output_type": "stream",
     "text": [
      "45, 45, 100\n"
     ]
    }
   ],
   "source": [
    "a = b = 45\n",
    "c = 100\n",
    "print(f\"{a}, {b}, {c}\")"
   ]
  },
  {
   "cell_type": "code",
   "execution_count": 3,
   "id": "0c3d4fbb",
   "metadata": {},
   "outputs": [],
   "source": [
    "from yellowbrick.regressor import ResidualsPlot"
   ]
  },
  {
   "cell_type": "code",
   "execution_count": null,
   "id": "b56b942f",
   "metadata": {},
   "outputs": [],
   "source": []
  },
  {
   "cell_type": "code",
   "execution_count": null,
   "id": "aa108ddd",
   "metadata": {},
   "outputs": [],
   "source": []
  }
 ],
 "metadata": {
  "kernelspec": {
   "display_name": "Python 3 (ipykernel)",
   "language": "python",
   "name": "python3"
  },
  "language_info": {
   "codemirror_mode": {
    "name": "ipython",
    "version": 3
   },
   "file_extension": ".py",
   "mimetype": "text/x-python",
   "name": "python",
   "nbconvert_exporter": "python",
   "pygments_lexer": "ipython3",
   "version": "3.10.6"
  }
 },
 "nbformat": 4,
 "nbformat_minor": 5
}
