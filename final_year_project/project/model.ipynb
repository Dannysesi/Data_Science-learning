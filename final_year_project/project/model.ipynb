{
 "cells": [
  {
   "cell_type": "code",
   "execution_count": 5,
   "metadata": {},
   "outputs": [
    {
     "name": "stdout",
     "output_type": "stream",
     "text": [
      "daniel: 89.5\n",
      "daniel: 89.5\n",
      "moses: 74.5\n"
     ]
    }
   ],
   "source": [
    "num = int(input('enter number of students'))\n",
    "student_score  ={}\n",
    "\n",
    "for i in range(num):\n",
    "    score = []\n",
    "    student_name = input(f'enter student name {i+1}')\n",
    "    course1 = float(input('enter score for first course'))\n",
    "    course2 = float(input('enter score for second course'))\n",
    "    score.append(course1)\n",
    "    score.append(course2)\n",
    "\n",
    "    avg_score = sum(score) / len(score)\n",
    "\n",
    "    student_score[student_name] = avg_score\n",
    "\n",
    "    for student, avg_score in student_score.items():\n",
    "        print(f'{student}: {avg_score}')"
   ]
  },
  {
   "cell_type": "code",
   "execution_count": 6,
   "metadata": {},
   "outputs": [
    {
     "data": {
      "text/plain": [
       "{'daniel': 89.5, 'moses': 74.5}"
      ]
     },
     "execution_count": 6,
     "metadata": {},
     "output_type": "execute_result"
    }
   ],
   "source": [
    "student_score"
   ]
  },
  {
   "cell_type": "code",
   "execution_count": 1,
   "metadata": {},
   "outputs": [],
   "source": [
    "import time, sys\n",
    "\n",
    "def typingPrint(text):\n",
    "\tfor characters in text:\n",
    "\t\tsys.stdout.write(characters)\n",
    "\t\tsys.stdout.flush()\n",
    "\t\ttime.sleep(0.05)"
   ]
  },
  {
   "cell_type": "code",
   "execution_count": 2,
   "metadata": {},
   "outputs": [],
   "source": [
    "txt = 'Wash the cut properly to prevent infection and stop the bleeding by applying pressure for 1-2minutes until bleeding stops. Apply Petroleum Jelly to make sure that the wound is moist for quick healing. Finally cover the cut with a sterile bandage. Pain relievers such as acetaminophen can be applied.'"
   ]
  },
  {
   "cell_type": "code",
   "execution_count": 3,
   "metadata": {},
   "outputs": [
    {
     "name": "stdout",
     "output_type": "stream",
     "text": [
      "Wash the cut properly to prevent infection and stop the bleeding by applying pressure for 1-2minutes until bleeding stops. Apply Petroleum Jelly to make sure that the wound is moist for quick healing. Finally cover the cut with a sterile bandage. Pain relievers such as acetaminophen can be applied."
     ]
    }
   ],
   "source": [
    "typingPrint(txt)"
   ]
  },
  {
   "cell_type": "code",
   "execution_count": 7,
   "metadata": {},
   "outputs": [],
   "source": [
    "for i in range(1_000_000_000):\n",
    "    pass"
   ]
  },
  {
   "cell_type": "code",
   "execution_count": 4,
   "metadata": {},
   "outputs": [],
   "source": [
    "import streamlit as st"
   ]
  },
  {
   "cell_type": "code",
   "execution_count": 5,
   "metadata": {},
   "outputs": [],
   "source": [
    "def typingPrint(text):\n",
    "\tfor characters in text:\n",
    "\t\tst.write(characters)\n",
    "\t\tsys.stdout.flush()\n",
    "\t\ttime.sleep(0.05)"
   ]
  },
  {
   "cell_type": "code",
   "execution_count": 7,
   "metadata": {},
   "outputs": [],
   "source": [
    "import time\n",
    "import pandas as pd\n",
    "import numpy as np"
   ]
  },
  {
   "cell_type": "code",
   "execution_count": 10,
   "metadata": {},
   "outputs": [],
   "source": [
    "df = {\n",
    "    'age': [2,3,4,5,7,8],\n",
    "    'class': [12,23,34,56,67,78],\n",
    "}\n",
    "\n",
    "df = pd.DataFrame(df)"
   ]
  },
  {
   "cell_type": "code",
   "execution_count": 16,
   "metadata": {},
   "outputs": [
    {
     "name": "stdout",
     "output_type": "stream",
     "text": [
      "1687947015.8921807 seconds\n"
     ]
    }
   ],
   "source": [
    "start = time.time()\n",
    "for col in df.columns:\n",
    "    for item in df[col]:\n",
    "        pass\n",
    "print(start, 'seconds')"
   ]
  },
  {
   "cell_type": "code",
   "execution_count": null,
   "metadata": {},
   "outputs": [],
   "source": []
  },
  {
   "cell_type": "code",
   "execution_count": null,
   "metadata": {},
   "outputs": [],
   "source": []
  }
 ],
 "metadata": {
  "kernelspec": {
   "display_name": "Python 3",
   "language": "python",
   "name": "python3"
  },
  "language_info": {
   "codemirror_mode": {
    "name": "ipython",
    "version": 3
   },
   "file_extension": ".py",
   "mimetype": "text/x-python",
   "name": "python",
   "nbconvert_exporter": "python",
   "pygments_lexer": "ipython3",
   "version": "3.11.3"
  },
  "orig_nbformat": 4
 },
 "nbformat": 4,
 "nbformat_minor": 2
}
