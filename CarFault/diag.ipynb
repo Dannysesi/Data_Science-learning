{
 "cells": [
  {
   "cell_type": "code",
   "execution_count": 1,
   "metadata": {},
   "outputs": [
    {
     "name": "stderr",
     "output_type": "stream",
     "text": [
      "[nltk_data] Downloading package punkt to\n",
      "[nltk_data]     C:\\Users\\Leinad\\AppData\\Roaming\\nltk_data...\n",
      "[nltk_data]   Package punkt is already up-to-date!\n"
     ]
    }
   ],
   "source": [
    "import nltk\n",
    "nltk.download('punkt')\n",
    "from nltk.stem.lancaster import LancasterStemmer\n",
    "stemmer = LancasterStemmer()"
   ]
  },
  {
   "cell_type": "code",
   "execution_count": 2,
   "metadata": {},
   "outputs": [
    {
     "name": "stdout",
     "output_type": "stream",
     "text": [
      "WARNING:tensorflow:From C:\\Users\\Leinad\\AppData\\Roaming\\Python\\Python311\\site-packages\\tensorflow\\python\\compat\\v2_compat.py:107: disable_resource_variables (from tensorflow.python.ops.variable_scope) is deprecated and will be removed in a future version.\n",
      "Instructions for updating:\n",
      "non-resource variables are not supported in the long term\n"
     ]
    }
   ],
   "source": [
    "import numpy\n",
    "import tflearn\n",
    "import tensorflow as tf\n",
    "import random\n",
    "import json\n",
    "import pickle\n",
    "from tensorflow import keras"
   ]
  },
  {
   "cell_type": "code",
   "execution_count": 3,
   "metadata": {},
   "outputs": [],
   "source": [
    "with open(\"intents.json\") as file:\n",
    "\tdata = json.load(file)"
   ]
  },
  {
   "cell_type": "code",
   "execution_count": 4,
   "metadata": {},
   "outputs": [],
   "source": [
    "words = []\n",
    "labels = []\n",
    "docs_x = []\n",
    "docs_y = []\n",
    "\n",
    "for intent in data[\"intents\"]:\n",
    "\tfor pattern in intent[\"patterns\"]:\n",
    "\t\twrds = nltk.word_tokenize(pattern)\n",
    "\t\twords.extend(wrds)\n",
    "\t\tdocs_x.append(wrds)\n",
    "\t\tdocs_y.append(intent[\"tag\"])\n",
    "\n",
    "\tif intent[\"tag\"] not in labels:\n",
    "\t\tlabels.append(intent[\"tag\"])\n",
    "\n",
    "words = [stemmer.stem(w.lower()) for w in words if w != \"?\"]\n",
    "words = sorted(list(set(words)))\n",
    "\n",
    "labels = sorted(labels)\n",
    "\n",
    "\n",
    "training = []\n",
    "output = []\n",
    "\n",
    "out_empty = [0 for _ in range(len(labels))]\n",
    "\n",
    "for x, doc in enumerate(docs_x):\n",
    "\tbag = []\n",
    "\n",
    "\twrds = [stemmer.stem(w) for w in doc]\n",
    "\n",
    "\tfor w in words:\n",
    "\t\tif w in wrds:\n",
    "\t\t\tbag.append(1)\n",
    "\t\telse:\n",
    "\t\t\tbag.append(0)\n",
    "\toutput_row = out_empty[:]\n",
    "\toutput_row[labels.index(docs_y[x])] = 1\n",
    "\n",
    "\ttraining.append(bag)\n",
    "\toutput.append(output_row)\n",
    "\n",
    "training = numpy.array(training)\n",
    "output = numpy.array(output)"
   ]
  },
  {
   "cell_type": "code",
   "execution_count": 5,
   "metadata": {},
   "outputs": [
    {
     "name": "stdout",
     "output_type": "stream",
     "text": [
      "WARNING:tensorflow:From C:\\Users\\Leinad\\AppData\\Roaming\\Python\\Python311\\site-packages\\tflearn\\initializations.py:164: calling TruncatedNormal.__init__ (from tensorflow.python.ops.init_ops) with dtype is deprecated and will be removed in a future version.\n",
      "Instructions for updating:\n",
      "Call initializer instance with the dtype argument instead of passing it to the constructor\n"
     ]
    }
   ],
   "source": [
    "tf.compat.v1.reset_default_graph()\n",
    "\n",
    "net = tflearn.input_data(shape=[None, len(training[0])])\n",
    "net = tflearn.fully_connected(net, 8)\n",
    "net = tflearn.fully_connected(net, 8)\n",
    "net = tflearn.fully_connected(net, len(output[0]), activation=\"softmax\")\n",
    "net = tflearn.regression(net)\n",
    "\n",
    "model = tflearn.DNN(net)"
   ]
  },
  {
   "cell_type": "code",
   "execution_count": 8,
   "metadata": {},
   "outputs": [
    {
     "name": "stdout",
     "output_type": "stream",
     "text": [
      "INFO:tensorflow:Restoring parameters from c:\\Users\\Leinad\\Documents\\Tech_Villain\\Leinadpython\\CarFault\\model.tflearn\n"
     ]
    }
   ],
   "source": [
    "try:\n",
    "\tmodel.load(\"model.tflearn\")\n",
    "except:\n",
    "\tmodel = tflearn.DNN(net)\n",
    "\tmodel.fit(training, output, n_epoch=1000, batch_size=8, show_metric=True)\n",
    "\tmodel.save(\"model.tflearn\")"
   ]
  },
  {
   "cell_type": "code",
   "execution_count": 9,
   "metadata": {},
   "outputs": [],
   "source": [
    "def bag_of_words(s,words):\n",
    "\tbag = [0 for _ in range(len(words))]\n",
    "\n",
    "\n",
    "\ts_words = nltk.word_tokenize(s)\n",
    "\ts_words = [stemmer.stem(word.lower()) for word in s_words]\n",
    "\n",
    "\tfor se in s_words:\n",
    "\t\tfor i, w in enumerate(words):\n",
    "\t\t\tif w == se:\n",
    "\t\t\t\tbag[i] = 1\n",
    "\n",
    "\treturn numpy.array(bag)"
   ]
  },
  {
   "cell_type": "code",
   "execution_count": 13,
   "metadata": {},
   "outputs": [],
   "source": [
    "def chat():\n",
    "\twhile True:\n",
    "\t\tinp = input(\"You: \")\n",
    "\t\tif inp.lower() == \"quit\":\n",
    "\t\t\tbreak\n",
    "\n",
    "\t\tfor intent in data[\"intents\"]:\n",
    "\t\t\tfor pattern in intent[\"patterns\"]:\n",
    "\t\t\t\tif inp in pattern:\n",
    "\t\t\t\t\tprint(intent[\"tag\"])\n",
    "\t\t\n",
    "\t\tresults = model.predict([bag_of_words(inp,words)])[0]\n",
    "\t\tresults_index = numpy.argmax(results)\n",
    "\t\ttag = labels[results_index]\n",
    "\n",
    "\t\tif results[results_index] > 0.5:\n",
    "\t\t\tfor tg in data[\"intents\"]:\n",
    "\t\t\t\tif tg['tag'] == tag:\n",
    "\t\t\t\t\tresponses = tg['responses']\t\n",
    "\t\t\tprint(random.choice(responses))\n",
    "\t\t\tprint(\"\\n\")\n",
    "\t\telse:\n",
    "\t\t\tprint(\"I didnt get that, try again\")"
   ]
  },
  {
   "cell_type": "code",
   "execution_count": 14,
   "metadata": {},
   "outputs": [
    {
     "name": "stdout",
     "output_type": "stream",
     "text": [
      "ENGINE MISFIRING\n",
      "Check The Spark Plug: Pop up the hood and have a look at the spark plug. If it is black, clean it with a brush and test again. \n",
      "Change The Spark Plug: If the car does not start after cleaning, then you will need to change the spark plug. It is not a costly component and can be changed without much expenditure. \n",
      "Consult A Mechanic: If the misfire happens even after replacing the spark plug, then we would recommend that you get your car checked by a skilled engine mechanic as the problem could be related to the cylinder or piston head.\n",
      "\n",
      "\n"
     ]
    }
   ],
   "source": [
    "chat()"
   ]
  },
  {
   "cell_type": "code",
   "execution_count": 11,
   "metadata": {},
   "outputs": [],
   "source": [
    "from sklearn.metrics import accuracy_score\n"
   ]
  },
  {
   "cell_type": "code",
   "execution_count": null,
   "metadata": {},
   "outputs": [],
   "source": [
    "for intent in data[\"intents\"]:\n",
    "\tfor pattern in intent[\"patterns\"]:\n",
    "\t\tif inp in pattern:\n",
    "\t\t\tprint(intent[\"tag\"])"
   ]
  },
  {
   "cell_type": "code",
   "execution_count": 13,
   "metadata": {},
   "outputs": [
    {
     "name": "stdout",
     "output_type": "stream",
     "text": [
      "Please enter a vaild automobile issue\n",
      "Please enter a vaild automobile issue\n",
      "Please enter a vaild automobile issue\n",
      "Please enter a vaild automobile issue\n",
      "Please enter a vaild automobile issue\n",
      "Please enter a vaild automobile issue\n",
      "Please enter a vaild automobile issue\n",
      "Please enter a vaild automobile issue\n",
      "Please enter a vaild automobile issue\n",
      "Please enter a vaild automobile issue\n",
      "Please enter a vaild automobile issue\n",
      "Please enter a vaild automobile issue\n",
      "Please enter a vaild automobile issue\n",
      "Please enter a vaild automobile issue\n",
      "Please enter a vaild automobile issue\n",
      "Please enter a vaild automobile issue\n",
      "Please enter a vaild automobile issue\n",
      "Please enter a vaild automobile issue\n",
      "Please enter a vaild automobile issue\n",
      "Please enter a vaild automobile issue\n",
      "Please enter a vaild automobile issue\n",
      "Please enter a vaild automobile issue\n",
      "Please enter a vaild automobile issue\n",
      "Please enter a vaild automobile issue\n",
      "Please enter a vaild automobile issue\n",
      "Please enter a vaild automobile issue\n",
      "Please enter a vaild automobile issue\n",
      "Please enter a vaild automobile issue\n",
      "Please enter a vaild automobile issue\n",
      "Please enter a vaild automobile issue\n",
      "Please enter a vaild automobile issue\n",
      "Please enter a vaild automobile issue\n",
      "Please enter a vaild automobile issue\n"
     ]
    }
   ],
   "source": [
    "prompt = input('enter your prompt: ')\n",
    "for intent in data[\"intents\"]:\n",
    "\tfor pattern in intent[\"patterns\"]:\n",
    "\t\tif prompt in pattern:\n",
    "\t\t\tprint(intent[\"tag\"])\n",
    "\t\telse:\n",
    "\t\t\tprint('Please enter a vaild automobile issue')"
   ]
  },
  {
   "cell_type": "code",
   "execution_count": 2,
   "metadata": {},
   "outputs": [],
   "source": [
    "data = {\n",
    "    \"intents\": [\n",
    "        {\n",
    "            \"tag\": \"greeting\",\n",
    "            \"patterns\": [\"hello\", \"hi\", \"hey\"],\n",
    "        },\n",
    "        {\n",
    "            \"tag\": \"farewell\",\n",
    "            \"patterns\": [\"bye\", \"goodbye\", \"see you\"],\n",
    "        },\n",
    "        # Add more intents here\n",
    "    ]\n",
    "}\n"
   ]
  },
  {
   "cell_type": "code",
   "execution_count": 3,
   "metadata": {},
   "outputs": [
    {
     "name": "stdout",
     "output_type": "stream",
     "text": [
      "No matching tag found for the given prompt.\n"
     ]
    }
   ],
   "source": [
    "prompt = input('enter your prompt: ')\n",
    "match_found = False\n",
    "\n",
    "for intent in data[\"intents\"]:\n",
    "    for pattern in intent[\"patterns\"]:\n",
    "        if prompt in pattern:\n",
    "            print(intent[\"tag\"])\n",
    "            match_found = True\n",
    "            break  # Exit the inner loop once a match is found\n",
    "\n",
    "if not match_found:\n",
    "    print(\"No matching tag found for the given prompt.\")\n"
   ]
  },
  {
   "cell_type": "code",
   "execution_count": 1,
   "metadata": {},
   "outputs": [
    {
     "ename": "NameError",
     "evalue": "name 'data' is not defined",
     "output_type": "error",
     "traceback": [
      "\u001b[1;31m---------------------------------------------------------------------------\u001b[0m",
      "\u001b[1;31mNameError\u001b[0m                                 Traceback (most recent call last)",
      "Cell \u001b[1;32mIn[1], line 4\u001b[0m\n\u001b[0;32m      1\u001b[0m prompt \u001b[39m=\u001b[39m \u001b[39minput\u001b[39m(\u001b[39m'\u001b[39m\u001b[39menter your prompt: \u001b[39m\u001b[39m'\u001b[39m)\n\u001b[0;32m      2\u001b[0m match_found \u001b[39m=\u001b[39m \u001b[39mFalse\u001b[39;00m\n\u001b[1;32m----> 4\u001b[0m \u001b[39mfor\u001b[39;00m intent \u001b[39min\u001b[39;00m data[\u001b[39m\"\u001b[39m\u001b[39mintents\u001b[39m\u001b[39m\"\u001b[39m]:\n\u001b[0;32m      5\u001b[0m     \u001b[39mfor\u001b[39;00m pattern \u001b[39min\u001b[39;00m intent[\u001b[39m\"\u001b[39m\u001b[39mpatterns\u001b[39m\u001b[39m\"\u001b[39m]:\n\u001b[0;32m      6\u001b[0m         \u001b[39mif\u001b[39;00m prompt \u001b[39min\u001b[39;00m pattern:\n",
      "\u001b[1;31mNameError\u001b[0m: name 'data' is not defined"
     ]
    }
   ],
   "source": [
    "prompt = input('enter your prompt: ')\n",
    "match_found = False\n",
    "\n",
    "for intent in data[\"intents\"]:\n",
    "    for pattern in intent[\"patterns\"]:\n",
    "        if prompt in pattern:\n",
    "            print(intent[\"tag\"])\n",
    "            match_found = True\n",
    "            break  # Exit the inner loop once a match is found\n",
    "\n",
    "if not match_found:\n",
    "    print('Please enter a vaild automobile issue')\n"
   ]
  },
  {
   "cell_type": "code",
   "execution_count": 59,
   "metadata": {},
   "outputs": [
    {
     "name": "stdout",
     "output_type": "stream",
     "text": [
      "greeting\n",
      "farewell\n"
     ]
    }
   ],
   "source": [
    "prompt = input('enter your prompt: ')\n",
    "found_tags = []\n",
    "\n",
    "for intent in data[\"intents\"]:\n",
    "    for pattern in intent[\"patterns\"]:\n",
    "        if prompt in pattern:\n",
    "            found_tags.append(intent[\"tag\"])\n",
    "            break  # Exit the inner loop once a match is found\n",
    "\n",
    "if found_tags:\n",
    "    print(\"\\n\".join(found_tags))\n",
    "else:\n",
    "    print(\"Invalid prompt\")\n"
   ]
  },
  {
   "cell_type": "code",
   "execution_count": 6,
   "metadata": {},
   "outputs": [],
   "source": [
    "from sklearn.model_selection import train_test_split\n",
    "from sklearn.metrics import accuracy_score\n",
    "train_data, eval_data, train_labels, eval_labels = train_test_split(training, output, test_size=0.3, random_state=1)"
   ]
  },
  {
   "cell_type": "code",
   "execution_count": 7,
   "metadata": {},
   "outputs": [
    {
     "name": "stdout",
     "output_type": "stream",
     "text": [
      "---------------------------------\n",
      "Run id: KP8CGM\n",
      "Log directory: /tmp/tflearn_logs/\n",
      "---------------------------------\n",
      "Training samples: 23\n",
      "Validation samples: 0\n",
      "--\n",
      "Training Step: 1  | time: 0.122s\n",
      "| Adam | epoch: 001 | loss: 0.00000 -- iter: 23/23\n",
      "--\n",
      "Training Step: 2  | total loss: \u001b[1m\u001b[32m2.43911\u001b[0m\u001b[0m | time: 0.010s\n",
      "| Adam | epoch: 002 | loss: 2.43911 -- iter: 23/23\n",
      "--\n",
      "Training Step: 3  | total loss: \u001b[1m\u001b[32m2.43911\u001b[0m\u001b[0m | time: 0.003s\n",
      "| Adam | epoch: 003 | loss: 2.43911 -- iter: 23/23\n",
      "--\n",
      "Training Step: 4  | total loss: \u001b[1m\u001b[32m2.47233\u001b[0m\u001b[0m | time: 0.004s\n",
      "| Adam | epoch: 004 | loss: 2.47233 -- iter: 23/23\n",
      "--\n",
      "Training Step: 5  | total loss: \u001b[1m\u001b[32m2.47947\u001b[0m\u001b[0m | time: 0.003s\n",
      "| Adam | epoch: 005 | loss: 2.47947 -- iter: 23/23\n",
      "--\n",
      "Training Step: 6  | total loss: \u001b[1m\u001b[32m2.48101\u001b[0m\u001b[0m | time: 0.004s\n",
      "| Adam | epoch: 006 | loss: 2.48101 -- iter: 23/23\n",
      "--\n",
      "Training Step: 7  | total loss: \u001b[1m\u001b[32m2.48061\u001b[0m\u001b[0m | time: 0.008s\n",
      "| Adam | epoch: 007 | loss: 2.48061 -- iter: 23/23\n",
      "--\n",
      "Training Step: 8  | total loss: \u001b[1m\u001b[32m2.47999\u001b[0m\u001b[0m | time: 0.008s\n",
      "| Adam | epoch: 008 | loss: 2.47999 -- iter: 23/23\n",
      "--\n",
      "Training Step: 9  | total loss: \u001b[1m\u001b[32m2.47929\u001b[0m\u001b[0m | time: 0.006s\n",
      "| Adam | epoch: 009 | loss: 2.47929 -- iter: 23/23\n",
      "--\n",
      "Training Step: 10  | total loss: \u001b[1m\u001b[32m2.47929\u001b[0m\u001b[0m | time: 0.005s\n",
      "| Adam | epoch: 010 | loss: 2.47929 -- iter: 23/23\n",
      "--\n"
     ]
    }
   ],
   "source": [
    "model.fit(train_data, train_labels)"
   ]
  },
  {
   "cell_type": "code",
   "execution_count": 9,
   "metadata": {},
   "outputs": [
    {
     "name": "stdout",
     "output_type": "stream",
     "text": [
      "Accuracy: 0.1\n"
     ]
    }
   ],
   "source": [
    "predictions = model.predict(eval_data)\n",
    "\n",
    "# Convert the predictions to class labels (index with the highest probability)\n",
    "predicted_labels = [labels[prediction.argmax()] for prediction in predictions]\n",
    "\n",
    "# Calculate accuracy as the evaluation metric\n",
    "accuracy = accuracy_score([labels[label.argmax()] for label in eval_labels], predicted_labels)\n",
    "print(\"Accuracy:\", accuracy)"
   ]
  },
  {
   "cell_type": "code",
   "execution_count": 10,
   "metadata": {},
   "outputs": [
    {
     "name": "stdout",
     "output_type": "stream",
     "text": [
      "Precision: 0.0999999999\n",
      "Recall: 0.0999999999\n"
     ]
    }
   ],
   "source": [
    "import numpy as np\n",
    "\n",
    "# Calculate True Positives (TP), False Positives (FP), and False Negatives (FN)\n",
    "def calculate_tp_fp_fn(y_true, y_pred):\n",
    "    tp = np.sum(np.logical_and(y_true == 1, y_pred == 1))\n",
    "    fp = np.sum(np.logical_and(y_true == 0, y_pred == 1))\n",
    "    fn = np.sum(np.logical_and(y_true == 1, y_pred == 0))\n",
    "    return tp, fp, fn\n",
    "\n",
    "# Evaluate precision and recall\n",
    "def evaluate_precision_recall(y_true, y_pred):\n",
    "    tp, fp, fn = calculate_tp_fp_fn(y_true, y_pred)\n",
    "    precision = tp / (tp + fp + 1e-8)  # Add small epsilon to avoid division by zero\n",
    "    recall = tp / (tp + fn + 1e-8)     # Add small epsilon to avoid division by zero\n",
    "    return precision, recall\n",
    "\n",
    "# Assuming you already have the predictions and ground truth labels\n",
    "# predictions contains the predicted labels (converted to class indices)\n",
    "# eval_labels contains the ground truth labels (converted to class indices)\n",
    "\n",
    "# Convert predictions and eval_labels to binary format for multilabel evaluation\n",
    "y_pred_binary = np.zeros_like(predictions)\n",
    "y_pred_binary[np.arange(len(predictions)), predictions.argmax(axis=1)] = 1\n",
    "\n",
    "eval_labels_binary = np.zeros_like(eval_labels)\n",
    "eval_labels_binary[np.arange(len(eval_labels)), eval_labels.argmax(axis=1)] = 1\n",
    "\n",
    "# Evaluate precision and recall\n",
    "precision, recall = evaluate_precision_recall(eval_labels_binary, y_pred_binary)\n",
    "\n",
    "print(\"Precision:\", precision)\n",
    "print(\"Recall:\", recall)\n"
   ]
  },
  {
   "cell_type": "code",
   "execution_count": null,
   "metadata": {},
   "outputs": [],
   "source": []
  }
 ],
 "metadata": {
  "kernelspec": {
   "display_name": "Python 3",
   "language": "python",
   "name": "python3"
  },
  "language_info": {
   "codemirror_mode": {
    "name": "ipython",
    "version": 3
   },
   "file_extension": ".py",
   "mimetype": "text/x-python",
   "name": "python",
   "nbconvert_exporter": "python",
   "pygments_lexer": "ipython3",
   "version": "3.11.3"
  },
  "orig_nbformat": 4
 },
 "nbformat": 4,
 "nbformat_minor": 2
}
